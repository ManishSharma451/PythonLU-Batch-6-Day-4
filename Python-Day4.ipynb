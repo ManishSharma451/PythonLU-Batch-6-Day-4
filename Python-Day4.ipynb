{
 "cells": [
  {
   "cell_type": "code",
   "execution_count": 2,
   "metadata": {},
   "outputs": [
    {
     "name": "stdout",
     "output_type": "stream",
     "text": [
      "Enter the sentence:what we think we become ;we are python programmers\n",
      "what we think we become ;we are python programmers\n",
      "Enter the word: we\n",
      "The word 'we' present in 'what we think we become ;we are python programmers' as: 1 --> 5 \n",
      "The word 'we' present in 'what we think we become ;we are python programmers' as: 2 --> 14 \n",
      "The word 'we' present in 'what we think we become ;we are python programmers' as: 3 --> 25 \n"
     ]
    }
   ],
   "source": [
    "\"\"\"\"ASSIGNMENT.1\"\"\"\"\n",
    "\n",
    "str1 = input(\"Enter the sentence:\")\n",
    "#\"i hear and i forget. i see and i remember. i do and i understand \"\n",
    "print(str1)\n",
    "str2 = input(\"Enter the word: \")\n",
    "count = 0\n",
    "for i in range(len(str1)): \n",
    "  if str1.startswith(str2, i):\n",
    "    count=count+1\n",
    "    print(f\"The word '{str2}' present in '{str1}' as: {count} --> {i} \")\n",
    "if count==0:\n",
    "  print(f\"The word '{str2}' is not present in '{str1}'\")"
   ]
  },
  {
   "cell_type": "code",
   "execution_count": null,
   "metadata": {},
   "outputs": [
    {
     "name": "stdout",
     "output_type": "stream",
     "text": [
      "Enter number of strings you want check:5\n",
      "Enter the stringPEACE\n",
      "It contains full of alphabet\n",
      "The given string is uppercase: True\n",
      "The given string is lowercase: False\n",
      "Enter the stringmartha\n",
      "It contains full of alphabet\n",
      "The given string is uppercase: False\n",
      "The given string is lowercase: True\n",
      "Enter the string123Regina\n",
      "It contains alphabet and numbers\n",
      "The given string is uppercase: False\n",
      "The given string is lowercase: False\n"
     ]
    }
   ],
   "source": [
    "\"\"\"ASSIGNMENT.2\"\"\"\n",
    "\n",
    "n= int(input(\"Enter number of strings you want check:\"))\n",
    "for i in range(0,n):\n",
    "  str3= input(\"Enter the string\")\n",
    "  if str3.isalpha():\n",
    "    print(\"It contains full of alphabet\")\n",
    "  elif str3.isdigit():\n",
    "    print(\"It contains full of numbers\")\n",
    "  else:\n",
    "    print(\"It contains alphabet and numbers\")\n",
    "  upr= str3.isupper()\n",
    "  print(\"The given string is uppercase:\",upr)\n",
    "  lwr= str3.islower()\n",
    "  print(\"The given string is lowercase:\",lwr)"
   ]
  }
 ],
 "metadata": {
  "kernelspec": {
   "display_name": "Python 3",
   "language": "python",
   "name": "python3"
  },
  "language_info": {
   "codemirror_mode": {
    "name": "ipython",
    "version": 3
   },
   "file_extension": ".py",
   "mimetype": "text/x-python",
   "name": "python",
   "nbconvert_exporter": "python",
   "pygments_lexer": "ipython3",
   "version": "3.7.6"
  }
 },
 "nbformat": 4,
 "nbformat_minor": 4
}
